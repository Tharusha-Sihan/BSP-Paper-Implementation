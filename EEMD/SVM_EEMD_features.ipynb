{
 "cells": [
  {
   "cell_type": "code",
   "execution_count": 1,
   "id": "248fe595",
   "metadata": {
    "execution": {
     "iopub.execute_input": "2024-12-12T06:27:39.603897Z",
     "iopub.status.busy": "2024-12-12T06:27:39.603002Z",
     "iopub.status.idle": "2024-12-12T06:27:39.607409Z",
     "shell.execute_reply": "2024-12-12T06:27:39.606836Z"
    },
    "id": "F0eI-djloFd0",
    "outputId": "7213b071-e940-48e3-e59f-15f6fad91bc9",
    "papermill": {
     "duration": 0.010302,
     "end_time": "2024-12-12T06:27:39.609092",
     "exception": false,
     "start_time": "2024-12-12T06:27:39.598790",
     "status": "completed"
    },
    "tags": []
   },
   "outputs": [],
   "source": [
    "# from google.colab import drive\n",
    "# drive.mount('/content/drive')"
   ]
  },
  {
   "cell_type": "code",
   "execution_count": 2,
   "id": "44fe0db4",
   "metadata": {
    "execution": {
     "iopub.execute_input": "2024-12-12T06:27:39.615238Z",
     "iopub.status.busy": "2024-12-12T06:27:39.614991Z",
     "iopub.status.idle": "2024-12-12T06:27:41.415316Z",
     "shell.execute_reply": "2024-12-12T06:27:41.414474Z"
    },
    "id": "wOcR4NxYoTpX",
    "papermill": {
     "duration": 1.805408,
     "end_time": "2024-12-12T06:27:41.417272",
     "exception": false,
     "start_time": "2024-12-12T06:27:39.611864",
     "status": "completed"
    },
    "tags": []
   },
   "outputs": [],
   "source": [
    "import numpy as np\n",
    "import pandas as pd\n",
    "import matplotlib.pyplot as plt\n",
    "from sklearn.svm import SVC\n",
    "from sklearn.metrics import classification_report, accuracy_score, recall_score, confusion_matrix, roc_curve, auc, precision_recall_curve\n",
    "from sklearn.preprocessing import StandardScaler\n",
    "from sklearn.model_selection import cross_val_score, StratifiedKFold"
   ]
  },
  {
   "cell_type": "code",
   "execution_count": 3,
   "id": "86e3731d",
   "metadata": {
    "execution": {
     "iopub.execute_input": "2024-12-12T06:27:41.423900Z",
     "iopub.status.busy": "2024-12-12T06:27:41.423369Z",
     "iopub.status.idle": "2024-12-12T06:27:41.701746Z",
     "shell.execute_reply": "2024-12-12T06:27:41.700749Z"
    },
    "id": "Ha9O4n01ou0K",
    "papermill": {
     "duration": 0.284294,
     "end_time": "2024-12-12T06:27:41.704291",
     "exception": false,
     "start_time": "2024-12-12T06:27:41.419997",
     "status": "completed"
    },
    "tags": []
   },
   "outputs": [],
   "source": [
    "# Load the datasets\n",
    "train_data = pd.read_csv('/kaggle/input/eemd-features/cleaned_train_df(EEMD).csv')\n",
    "test_data = pd.read_csv('/kaggle/input/eemd-features/cleaned_test_df(EEMD).csv')"
   ]
  },
  {
   "cell_type": "code",
   "execution_count": 4,
   "id": "8729a9a2",
   "metadata": {
    "execution": {
     "iopub.execute_input": "2024-12-12T06:27:41.714455Z",
     "iopub.status.busy": "2024-12-12T06:27:41.714150Z",
     "iopub.status.idle": "2024-12-12T06:27:41.739917Z",
     "shell.execute_reply": "2024-12-12T06:27:41.738967Z"
    },
    "id": "rQ4NLHAmpGgN",
    "outputId": "21864ae8-7cb3-4891-b111-1873d7861384",
    "papermill": {
     "duration": 0.032718,
     "end_time": "2024-12-12T06:27:41.741717",
     "exception": false,
     "start_time": "2024-12-12T06:27:41.708999",
     "status": "completed"
    },
    "tags": []
   },
   "outputs": [
    {
     "data": {
      "text/html": [
       "<div>\n",
       "<style scoped>\n",
       "    .dataframe tbody tr th:only-of-type {\n",
       "        vertical-align: middle;\n",
       "    }\n",
       "\n",
       "    .dataframe tbody tr th {\n",
       "        vertical-align: top;\n",
       "    }\n",
       "\n",
       "    .dataframe thead th {\n",
       "        text-align: right;\n",
       "    }\n",
       "</style>\n",
       "<table border=\"1\" class=\"dataframe\">\n",
       "  <thead>\n",
       "    <tr style=\"text-align: right;\">\n",
       "      <th></th>\n",
       "      <th>SV 1</th>\n",
       "      <th>CV 1</th>\n",
       "      <th>SEN 1</th>\n",
       "      <th>BP 1</th>\n",
       "      <th>SV 2</th>\n",
       "      <th>CV 2</th>\n",
       "      <th>SEN 2</th>\n",
       "      <th>BP 2</th>\n",
       "      <th>SV 3</th>\n",
       "      <th>CV 3</th>\n",
       "      <th>...</th>\n",
       "      <th>BP 5</th>\n",
       "      <th>SV 6</th>\n",
       "      <th>CV 6</th>\n",
       "      <th>SEN 6</th>\n",
       "      <th>BP 6</th>\n",
       "      <th>SV 7</th>\n",
       "      <th>CV 7</th>\n",
       "      <th>SEN 7</th>\n",
       "      <th>BP 7</th>\n",
       "      <th>Class</th>\n",
       "    </tr>\n",
       "  </thead>\n",
       "  <tbody>\n",
       "    <tr>\n",
       "      <th>0</th>\n",
       "      <td>2.065795</td>\n",
       "      <td>301.466264</td>\n",
       "      <td>21.580267</td>\n",
       "      <td>1.552360</td>\n",
       "      <td>0.022715</td>\n",
       "      <td>4980.135609</td>\n",
       "      <td>252.076366</td>\n",
       "      <td>211.808314</td>\n",
       "      <td>0.135174</td>\n",
       "      <td>2646.495402</td>\n",
       "      <td>...</td>\n",
       "      <td>212.813785</td>\n",
       "      <td>0.078922</td>\n",
       "      <td>3.963838</td>\n",
       "      <td>110.736903</td>\n",
       "      <td>40.875539</td>\n",
       "      <td>0.001027</td>\n",
       "      <td>237.195322</td>\n",
       "      <td>33.283637</td>\n",
       "      <td>3.692668</td>\n",
       "      <td>0.0</td>\n",
       "    </tr>\n",
       "    <tr>\n",
       "      <th>1</th>\n",
       "      <td>2.021937</td>\n",
       "      <td>2590.045129</td>\n",
       "      <td>28.129767</td>\n",
       "      <td>2.637613</td>\n",
       "      <td>0.015745</td>\n",
       "      <td>2341.547892</td>\n",
       "      <td>324.702388</td>\n",
       "      <td>351.438803</td>\n",
       "      <td>0.017103</td>\n",
       "      <td>4352.417956</td>\n",
       "      <td>...</td>\n",
       "      <td>412.221076</td>\n",
       "      <td>0.077988</td>\n",
       "      <td>107.439628</td>\n",
       "      <td>86.313095</td>\n",
       "      <td>24.833168</td>\n",
       "      <td>0.005476</td>\n",
       "      <td>11.411641</td>\n",
       "      <td>118.062541</td>\n",
       "      <td>46.462546</td>\n",
       "      <td>0.0</td>\n",
       "    </tr>\n",
       "    <tr>\n",
       "      <th>2</th>\n",
       "      <td>2.202044</td>\n",
       "      <td>2023.948185</td>\n",
       "      <td>26.177846</td>\n",
       "      <td>2.284265</td>\n",
       "      <td>0.049915</td>\n",
       "      <td>1155.755538</td>\n",
       "      <td>323.443480</td>\n",
       "      <td>348.718948</td>\n",
       "      <td>0.209030</td>\n",
       "      <td>1791.627349</td>\n",
       "      <td>...</td>\n",
       "      <td>360.333525</td>\n",
       "      <td>0.016895</td>\n",
       "      <td>154.306674</td>\n",
       "      <td>327.191816</td>\n",
       "      <td>356.848282</td>\n",
       "      <td>0.005677</td>\n",
       "      <td>47.632597</td>\n",
       "      <td>249.004487</td>\n",
       "      <td>206.677448</td>\n",
       "      <td>0.0</td>\n",
       "    </tr>\n",
       "    <tr>\n",
       "      <th>3</th>\n",
       "      <td>2.181224</td>\n",
       "      <td>402.054787</td>\n",
       "      <td>15.397074</td>\n",
       "      <td>0.790233</td>\n",
       "      <td>0.188117</td>\n",
       "      <td>2608.281043</td>\n",
       "      <td>120.411811</td>\n",
       "      <td>48.330014</td>\n",
       "      <td>0.061568</td>\n",
       "      <td>56167.364490</td>\n",
       "      <td>...</td>\n",
       "      <td>262.942521</td>\n",
       "      <td>0.032870</td>\n",
       "      <td>20.311520</td>\n",
       "      <td>199.860340</td>\n",
       "      <td>133.147185</td>\n",
       "      <td>0.006725</td>\n",
       "      <td>48.613362</td>\n",
       "      <td>216.249441</td>\n",
       "      <td>155.879402</td>\n",
       "      <td>0.0</td>\n",
       "    </tr>\n",
       "    <tr>\n",
       "      <th>4</th>\n",
       "      <td>2.300859</td>\n",
       "      <td>7249.859918</td>\n",
       "      <td>15.957499</td>\n",
       "      <td>0.848806</td>\n",
       "      <td>0.155220</td>\n",
       "      <td>5116.582344</td>\n",
       "      <td>130.716499</td>\n",
       "      <td>56.956011</td>\n",
       "      <td>0.110249</td>\n",
       "      <td>442.863758</td>\n",
       "      <td>...</td>\n",
       "      <td>176.985373</td>\n",
       "      <td>0.030695</td>\n",
       "      <td>9.830494</td>\n",
       "      <td>231.622924</td>\n",
       "      <td>178.830596</td>\n",
       "      <td>0.005196</td>\n",
       "      <td>8.304477</td>\n",
       "      <td>134.717771</td>\n",
       "      <td>60.496259</td>\n",
       "      <td>0.0</td>\n",
       "    </tr>\n",
       "  </tbody>\n",
       "</table>\n",
       "<p>5 rows × 29 columns</p>\n",
       "</div>"
      ],
      "text/plain": [
       "       SV 1         CV 1      SEN 1      BP 1      SV 2         CV 2  \\\n",
       "0  2.065795   301.466264  21.580267  1.552360  0.022715  4980.135609   \n",
       "1  2.021937  2590.045129  28.129767  2.637613  0.015745  2341.547892   \n",
       "2  2.202044  2023.948185  26.177846  2.284265  0.049915  1155.755538   \n",
       "3  2.181224   402.054787  15.397074  0.790233  0.188117  2608.281043   \n",
       "4  2.300859  7249.859918  15.957499  0.848806  0.155220  5116.582344   \n",
       "\n",
       "        SEN 2        BP 2      SV 3          CV 3  ...        BP 5      SV 6  \\\n",
       "0  252.076366  211.808314  0.135174   2646.495402  ...  212.813785  0.078922   \n",
       "1  324.702388  351.438803  0.017103   4352.417956  ...  412.221076  0.077988   \n",
       "2  323.443480  348.718948  0.209030   1791.627349  ...  360.333525  0.016895   \n",
       "3  120.411811   48.330014  0.061568  56167.364490  ...  262.942521  0.032870   \n",
       "4  130.716499   56.956011  0.110249    442.863758  ...  176.985373  0.030695   \n",
       "\n",
       "         CV 6       SEN 6        BP 6      SV 7        CV 7       SEN 7  \\\n",
       "0    3.963838  110.736903   40.875539  0.001027  237.195322   33.283637   \n",
       "1  107.439628   86.313095   24.833168  0.005476   11.411641  118.062541   \n",
       "2  154.306674  327.191816  356.848282  0.005677   47.632597  249.004487   \n",
       "3   20.311520  199.860340  133.147185  0.006725   48.613362  216.249441   \n",
       "4    9.830494  231.622924  178.830596  0.005196    8.304477  134.717771   \n",
       "\n",
       "         BP 7  Class  \n",
       "0    3.692668    0.0  \n",
       "1   46.462546    0.0  \n",
       "2  206.677448    0.0  \n",
       "3  155.879402    0.0  \n",
       "4   60.496259    0.0  \n",
       "\n",
       "[5 rows x 29 columns]"
      ]
     },
     "execution_count": 4,
     "metadata": {},
     "output_type": "execute_result"
    }
   ],
   "source": [
    "train_data.head()"
   ]
  },
  {
   "cell_type": "code",
   "execution_count": 5,
   "id": "5de673fe",
   "metadata": {
    "execution": {
     "iopub.execute_input": "2024-12-12T06:27:41.748544Z",
     "iopub.status.busy": "2024-12-12T06:27:41.748243Z",
     "iopub.status.idle": "2024-12-12T06:27:41.766120Z",
     "shell.execute_reply": "2024-12-12T06:27:41.765272Z"
    },
    "id": "o4j-LGIWpUNt",
    "outputId": "02fb77e3-acfe-4d18-c61d-97867ddf2488",
    "papermill": {
     "duration": 0.023334,
     "end_time": "2024-12-12T06:27:41.767963",
     "exception": false,
     "start_time": "2024-12-12T06:27:41.744629",
     "status": "completed"
    },
    "tags": []
   },
   "outputs": [
    {
     "data": {
      "text/html": [
       "<div>\n",
       "<style scoped>\n",
       "    .dataframe tbody tr th:only-of-type {\n",
       "        vertical-align: middle;\n",
       "    }\n",
       "\n",
       "    .dataframe tbody tr th {\n",
       "        vertical-align: top;\n",
       "    }\n",
       "\n",
       "    .dataframe thead th {\n",
       "        text-align: right;\n",
       "    }\n",
       "</style>\n",
       "<table border=\"1\" class=\"dataframe\">\n",
       "  <thead>\n",
       "    <tr style=\"text-align: right;\">\n",
       "      <th></th>\n",
       "      <th>SV 1</th>\n",
       "      <th>CV 1</th>\n",
       "      <th>SEN 1</th>\n",
       "      <th>BP 1</th>\n",
       "      <th>SV 2</th>\n",
       "      <th>CV 2</th>\n",
       "      <th>SEN 2</th>\n",
       "      <th>BP 2</th>\n",
       "      <th>SV 3</th>\n",
       "      <th>CV 3</th>\n",
       "      <th>...</th>\n",
       "      <th>BP 5</th>\n",
       "      <th>SV 6</th>\n",
       "      <th>CV 6</th>\n",
       "      <th>SEN 6</th>\n",
       "      <th>BP 6</th>\n",
       "      <th>SV 7</th>\n",
       "      <th>CV 7</th>\n",
       "      <th>SEN 7</th>\n",
       "      <th>BP 7</th>\n",
       "      <th>Class</th>\n",
       "    </tr>\n",
       "  </thead>\n",
       "  <tbody>\n",
       "    <tr>\n",
       "      <th>0</th>\n",
       "      <td>2.030810</td>\n",
       "      <td>4357.007014</td>\n",
       "      <td>21.487910</td>\n",
       "      <td>1.539101</td>\n",
       "      <td>0.026126</td>\n",
       "      <td>100845.991112</td>\n",
       "      <td>226.882456</td>\n",
       "      <td>171.585496</td>\n",
       "      <td>0.052606</td>\n",
       "      <td>18388.159078</td>\n",
       "      <td>...</td>\n",
       "      <td>152.384768</td>\n",
       "      <td>0.066841</td>\n",
       "      <td>5282.970310</td>\n",
       "      <td>147.514125</td>\n",
       "      <td>72.534723</td>\n",
       "      <td>0.010913</td>\n",
       "      <td>41.326982</td>\n",
       "      <td>107.856620</td>\n",
       "      <td>38.776835</td>\n",
       "      <td>0.0</td>\n",
       "    </tr>\n",
       "    <tr>\n",
       "      <th>1</th>\n",
       "      <td>1.965878</td>\n",
       "      <td>3467.104423</td>\n",
       "      <td>34.421715</td>\n",
       "      <td>3.949515</td>\n",
       "      <td>0.025298</td>\n",
       "      <td>204305.688636</td>\n",
       "      <td>422.313092</td>\n",
       "      <td>594.494491</td>\n",
       "      <td>0.070066</td>\n",
       "      <td>101164.083909</td>\n",
       "      <td>...</td>\n",
       "      <td>189.512362</td>\n",
       "      <td>0.061212</td>\n",
       "      <td>42.194350</td>\n",
       "      <td>152.643822</td>\n",
       "      <td>77.667121</td>\n",
       "      <td>0.005256</td>\n",
       "      <td>1.463766</td>\n",
       "      <td>91.705143</td>\n",
       "      <td>28.032777</td>\n",
       "      <td>0.0</td>\n",
       "    </tr>\n",
       "    <tr>\n",
       "      <th>2</th>\n",
       "      <td>2.270942</td>\n",
       "      <td>49809.218560</td>\n",
       "      <td>20.802096</td>\n",
       "      <td>1.442424</td>\n",
       "      <td>0.140740</td>\n",
       "      <td>298980.913420</td>\n",
       "      <td>124.344470</td>\n",
       "      <td>51.538490</td>\n",
       "      <td>0.038741</td>\n",
       "      <td>467.687150</td>\n",
       "      <td>...</td>\n",
       "      <td>373.347029</td>\n",
       "      <td>0.065187</td>\n",
       "      <td>51.273280</td>\n",
       "      <td>156.444010</td>\n",
       "      <td>81.582428</td>\n",
       "      <td>0.008023</td>\n",
       "      <td>0.791179</td>\n",
       "      <td>101.469260</td>\n",
       "      <td>34.320036</td>\n",
       "      <td>0.0</td>\n",
       "    </tr>\n",
       "    <tr>\n",
       "      <th>3</th>\n",
       "      <td>1.852784</td>\n",
       "      <td>8772.273133</td>\n",
       "      <td>39.750549</td>\n",
       "      <td>5.267020</td>\n",
       "      <td>0.131204</td>\n",
       "      <td>20354.137606</td>\n",
       "      <td>230.681955</td>\n",
       "      <td>177.380548</td>\n",
       "      <td>0.054758</td>\n",
       "      <td>870163.182305</td>\n",
       "      <td>...</td>\n",
       "      <td>1102.648927</td>\n",
       "      <td>0.047142</td>\n",
       "      <td>35.407146</td>\n",
       "      <td>522.385420</td>\n",
       "      <td>909.621756</td>\n",
       "      <td>0.015308</td>\n",
       "      <td>5.120347</td>\n",
       "      <td>304.132528</td>\n",
       "      <td>308.321982</td>\n",
       "      <td>0.0</td>\n",
       "    </tr>\n",
       "    <tr>\n",
       "      <th>4</th>\n",
       "      <td>2.110213</td>\n",
       "      <td>558.560039</td>\n",
       "      <td>15.510513</td>\n",
       "      <td>0.801920</td>\n",
       "      <td>0.100777</td>\n",
       "      <td>6189.769730</td>\n",
       "      <td>133.520187</td>\n",
       "      <td>59.425468</td>\n",
       "      <td>0.117566</td>\n",
       "      <td>1391.438951</td>\n",
       "      <td>...</td>\n",
       "      <td>188.349216</td>\n",
       "      <td>0.039604</td>\n",
       "      <td>22.607302</td>\n",
       "      <td>180.036711</td>\n",
       "      <td>108.044058</td>\n",
       "      <td>0.004808</td>\n",
       "      <td>60.895364</td>\n",
       "      <td>231.958837</td>\n",
       "      <td>179.349674</td>\n",
       "      <td>0.0</td>\n",
       "    </tr>\n",
       "  </tbody>\n",
       "</table>\n",
       "<p>5 rows × 29 columns</p>\n",
       "</div>"
      ],
      "text/plain": [
       "       SV 1          CV 1      SEN 1      BP 1      SV 2           CV 2  \\\n",
       "0  2.030810   4357.007014  21.487910  1.539101  0.026126  100845.991112   \n",
       "1  1.965878   3467.104423  34.421715  3.949515  0.025298  204305.688636   \n",
       "2  2.270942  49809.218560  20.802096  1.442424  0.140740  298980.913420   \n",
       "3  1.852784   8772.273133  39.750549  5.267020  0.131204   20354.137606   \n",
       "4  2.110213    558.560039  15.510513  0.801920  0.100777    6189.769730   \n",
       "\n",
       "        SEN 2        BP 2      SV 3           CV 3  ...         BP 5  \\\n",
       "0  226.882456  171.585496  0.052606   18388.159078  ...   152.384768   \n",
       "1  422.313092  594.494491  0.070066  101164.083909  ...   189.512362   \n",
       "2  124.344470   51.538490  0.038741     467.687150  ...   373.347029   \n",
       "3  230.681955  177.380548  0.054758  870163.182305  ...  1102.648927   \n",
       "4  133.520187   59.425468  0.117566    1391.438951  ...   188.349216   \n",
       "\n",
       "       SV 6         CV 6       SEN 6        BP 6      SV 7       CV 7  \\\n",
       "0  0.066841  5282.970310  147.514125   72.534723  0.010913  41.326982   \n",
       "1  0.061212    42.194350  152.643822   77.667121  0.005256   1.463766   \n",
       "2  0.065187    51.273280  156.444010   81.582428  0.008023   0.791179   \n",
       "3  0.047142    35.407146  522.385420  909.621756  0.015308   5.120347   \n",
       "4  0.039604    22.607302  180.036711  108.044058  0.004808  60.895364   \n",
       "\n",
       "        SEN 7        BP 7  Class  \n",
       "0  107.856620   38.776835    0.0  \n",
       "1   91.705143   28.032777    0.0  \n",
       "2  101.469260   34.320036    0.0  \n",
       "3  304.132528  308.321982    0.0  \n",
       "4  231.958837  179.349674    0.0  \n",
       "\n",
       "[5 rows x 29 columns]"
      ]
     },
     "execution_count": 5,
     "metadata": {},
     "output_type": "execute_result"
    }
   ],
   "source": [
    "test_data.head()"
   ]
  },
  {
   "cell_type": "code",
   "execution_count": 6,
   "id": "9e6e2d28",
   "metadata": {
    "execution": {
     "iopub.execute_input": "2024-12-12T06:27:41.776580Z",
     "iopub.status.busy": "2024-12-12T06:27:41.776312Z",
     "iopub.status.idle": "2024-12-12T06:27:41.786100Z",
     "shell.execute_reply": "2024-12-12T06:27:41.785320Z"
    },
    "id": "ZaKQaimRpije",
    "papermill": {
     "duration": 0.015798,
     "end_time": "2024-12-12T06:27:41.788114",
     "exception": false,
     "start_time": "2024-12-12T06:27:41.772316",
     "status": "completed"
    },
    "tags": []
   },
   "outputs": [],
   "source": [
    "# Separate features and labels\n",
    "X_train = train_data.drop(columns=[\"Class\"])  # all columns except the \"Class\"\n",
    "y_train = train_data[\"Class\"]  # \"Class\" column\n",
    "\n",
    "X_test = test_data.drop(columns=[\"Class\"])  # all columns except the \"Class\"\n",
    "y_test = test_data[\"Class\"]  # \"Class\" column"
   ]
  },
  {
   "cell_type": "code",
   "execution_count": 7,
   "id": "9e12be7c",
   "metadata": {
    "execution": {
     "iopub.execute_input": "2024-12-12T06:27:41.799985Z",
     "iopub.status.busy": "2024-12-12T06:27:41.799726Z",
     "iopub.status.idle": "2024-12-12T06:27:41.814735Z",
     "shell.execute_reply": "2024-12-12T06:27:41.813921Z"
    },
    "id": "X35JeYIv2MI0",
    "papermill": {
     "duration": 0.023181,
     "end_time": "2024-12-12T06:27:41.816806",
     "exception": false,
     "start_time": "2024-12-12T06:27:41.793625",
     "status": "completed"
    },
    "tags": []
   },
   "outputs": [],
   "source": [
    "# Normalize the training/test dataset\n",
    "scaler = StandardScaler()\n",
    "\n",
    "X_train = scaler.fit_transform(X_train)\n",
    "X_test = scaler.transform(X_test)"
   ]
  },
  {
   "cell_type": "code",
   "execution_count": 8,
   "id": "627e5a1e",
   "metadata": {
    "execution": {
     "iopub.execute_input": "2024-12-12T06:27:41.829564Z",
     "iopub.status.busy": "2024-12-12T06:27:41.828784Z",
     "iopub.status.idle": "2024-12-12T06:47:37.969831Z",
     "shell.execute_reply": "2024-12-12T06:47:37.968967Z"
    },
    "id": "XrpSATFdApIZ",
    "outputId": "4416d803-4fd9-46f2-81bc-f57f85626629",
    "papermill": {
     "duration": 1196.14934,
     "end_time": "2024-12-12T06:47:37.971746",
     "exception": false,
     "start_time": "2024-12-12T06:27:41.822406",
     "status": "completed"
    },
    "tags": []
   },
   "outputs": [
    {
     "name": "stdout",
     "output_type": "stream",
     "text": [
      "Kernel: linear, C: 0.09999999999999999, Fold Metrics -> Accuracy: 0.8275, Sensitivity: 0.8276, Specificity: 0.9285\n",
      "Kernel: linear, C: 0.21544346900318834, Fold Metrics -> Accuracy: 0.8344, Sensitivity: 0.8344, Specificity: 0.9390\n",
      "Kernel: linear, C: 0.46415888336127786, Fold Metrics -> Accuracy: 0.8396, Sensitivity: 0.8396, Specificity: 0.9471\n",
      "Kernel: linear, C: 1.0, Fold Metrics -> Accuracy: 0.8432, Sensitivity: 0.8432, Specificity: 0.9627\n",
      "Kernel: linear, C: 2.1544346900318834, Fold Metrics -> Accuracy: 0.8450, Sensitivity: 0.8450, Specificity: 0.9670\n",
      "Kernel: linear, C: 4.641588833612777, Fold Metrics -> Accuracy: 0.8461, Sensitivity: 0.8461, Specificity: 0.9704\n",
      "Kernel: linear, C: 10.0, Fold Metrics -> Accuracy: 0.8463, Sensitivity: 0.8463, Specificity: 0.9730\n",
      "Kernel: linear, C: 21.54434690031882, Fold Metrics -> Accuracy: 0.8474, Sensitivity: 0.8474, Specificity: 0.9750\n",
      "Kernel: linear, C: 46.41588833612778, Fold Metrics -> Accuracy: 0.8463, Sensitivity: 0.8463, Specificity: 0.9769\n",
      "Kernel: linear, C: 100.0, Fold Metrics -> Accuracy: 0.8464, Sensitivity: 0.8464, Specificity: 0.9794\n",
      "Kernel: poly, C: 0.09999999999999999, Fold Metrics -> Accuracy: 0.7285, Sensitivity: 0.7283, Specificity: 0.9520\n",
      "Kernel: poly, C: 0.21544346900318834, Fold Metrics -> Accuracy: 0.7897, Sensitivity: 0.7896, Specificity: 0.9657\n",
      "Kernel: poly, C: 0.46415888336127786, Fold Metrics -> Accuracy: 0.8248, Sensitivity: 0.8248, Specificity: 0.9800\n",
      "Kernel: poly, C: 1.0, Fold Metrics -> Accuracy: 0.8562, Sensitivity: 0.8562, Specificity: 0.9856\n",
      "Kernel: poly, C: 2.1544346900318834, Fold Metrics -> Accuracy: 0.8809, Sensitivity: 0.8809, Specificity: 0.9906\n",
      "Kernel: poly, C: 4.641588833612777, Fold Metrics -> Accuracy: 0.8959, Sensitivity: 0.8959, Specificity: 0.9921\n",
      "Kernel: poly, C: 10.0, Fold Metrics -> Accuracy: 0.9090, Sensitivity: 0.9090, Specificity: 0.9922\n",
      "Kernel: poly, C: 21.54434690031882, Fold Metrics -> Accuracy: 0.9159, Sensitivity: 0.9159, Specificity: 0.9928\n",
      "Kernel: poly, C: 46.41588833612778, Fold Metrics -> Accuracy: 0.9204, Sensitivity: 0.9204, Specificity: 0.9922\n",
      "Kernel: poly, C: 100.0, Fold Metrics -> Accuracy: 0.9239, Sensitivity: 0.9239, Specificity: 0.9923\n",
      "Kernel: rbf, C: 0.09999999999999999, Fold Metrics -> Accuracy: 0.8570, Sensitivity: 0.8570, Specificity: 0.9475\n",
      "Kernel: rbf, C: 0.21544346900318834, Fold Metrics -> Accuracy: 0.8738, Sensitivity: 0.8739, Specificity: 0.9623\n",
      "Kernel: rbf, C: 0.46415888336127786, Fold Metrics -> Accuracy: 0.8875, Sensitivity: 0.8876, Specificity: 0.9777\n",
      "Kernel: rbf, C: 1.0, Fold Metrics -> Accuracy: 0.8998, Sensitivity: 0.8998, Specificity: 0.9884\n",
      "Kernel: rbf, C: 2.1544346900318834, Fold Metrics -> Accuracy: 0.9137, Sensitivity: 0.9137, Specificity: 0.9910\n",
      "Kernel: rbf, C: 4.641588833612777, Fold Metrics -> Accuracy: 0.9251, Sensitivity: 0.9251, Specificity: 0.9928\n",
      "Kernel: rbf, C: 10.0, Fold Metrics -> Accuracy: 0.9311, Sensitivity: 0.9311, Specificity: 0.9923\n",
      "Kernel: rbf, C: 21.54434690031882, Fold Metrics -> Accuracy: 0.9344, Sensitivity: 0.9344, Specificity: 0.9934\n",
      "Kernel: rbf, C: 46.41588833612778, Fold Metrics -> Accuracy: 0.9351, Sensitivity: 0.9351, Specificity: 0.9923\n",
      "Kernel: rbf, C: 100.0, Fold Metrics -> Accuracy: 0.9343, Sensitivity: 0.9343, Specificity: 0.9923\n"
     ]
    }
   ],
   "source": [
    "import matplotlib.pyplot as plt\n",
    "from sklearn.metrics import make_scorer\n",
    "\n",
    "# Stratified 10-fold cross-validation\n",
    "skf = StratifiedKFold(n_splits=10, shuffle=True, random_state=1)\n",
    "\n",
    "# Define a range for the C parameter\n",
    "C_range = np.logspace(-1, 2, 10)  # Logarithmic scale from 0.1 to 100\n",
    "\n",
    "# Kernels to try\n",
    "kernels = ['linear', 'poly', 'rbf']\n",
    "\n",
    "# Dictionary to store the results\n",
    "results = {kernel: {\"C\": [], \"average_accuracy\": [], \"average_sensitivity\": [], \"average_specificity\": []} for kernel in kernels}\n",
    "\n",
    "# Perform grid search manually for each kernel type\n",
    "for kernel in kernels:\n",
    "    for C in C_range:\n",
    "        # Initialize SVM classifier with current kernel and C\n",
    "        svm_model = SVC(kernel=kernel, C=C, degree=3 if kernel == 'poly' else 1)  # Degree 3 for cubic kernel\n",
    "\n",
    "        # Initialize lists to collect metrics for cross-validation\n",
    "        accuracy_scores = []\n",
    "        sensitivity_scores = []\n",
    "        specificity_scores = []\n",
    "\n",
    "        # Cross-validation process\n",
    "        for train_index, val_index in skf.split(X_train, y_train):\n",
    "            # Split data into training and validation sets\n",
    "            X_fold_train, X_fold_val = X_train[train_index], X_train[val_index]\n",
    "            y_fold_train, y_fold_val = y_train.iloc[train_index], y_train.iloc[val_index]\n",
    "\n",
    "            # Train the model\n",
    "            svm_model.fit(X_fold_train, y_fold_train)\n",
    "\n",
    "            # Predictions\n",
    "            y_pred = svm_model.predict(X_fold_val)\n",
    "\n",
    "            # Calculate metrics\n",
    "            accuracy = accuracy_score(y_fold_val, y_pred)\n",
    "            sensitivity = recall_score(y_fold_val, y_pred, average='macro')\n",
    "\n",
    "            # Specificity calculation\n",
    "            tn, fp, fn, tp = confusion_matrix(y_fold_val, y_pred, labels=[0, 1]).ravel()\n",
    "            specificity = tn / (tn + fp) if (tn + fp) > 0 else 0\n",
    "\n",
    "            # Append metrics\n",
    "            accuracy_scores.append(accuracy)\n",
    "            sensitivity_scores.append(sensitivity)\n",
    "            specificity_scores.append(specificity)\n",
    "\n",
    "        # Store average metrics for this C value\n",
    "        results[kernel][\"C\"].append(C)\n",
    "        results[kernel][\"average_accuracy\"].append(np.mean(accuracy_scores))\n",
    "        results[kernel][\"average_sensitivity\"].append(np.mean(sensitivity_scores))\n",
    "        results[kernel][\"average_specificity\"].append(np.mean(specificity_scores))\n",
    "\n",
    "        # Print metrics for this iteration\n",
    "        print(f\"Kernel: {kernel}, C: {C}, Fold Metrics -> Accuracy: {np.mean(accuracy_scores):.4f}, Sensitivity: {np.mean(sensitivity_scores):.4f}, Specificity: {np.mean(specificity_scores):.4f}\")\n"
   ]
  },
  {
   "cell_type": "code",
   "execution_count": 9,
   "id": "dd588af7",
   "metadata": {
    "execution": {
     "iopub.execute_input": "2024-12-12T06:47:37.981969Z",
     "iopub.status.busy": "2024-12-12T06:47:37.981686Z",
     "iopub.status.idle": "2024-12-12T06:47:39.274908Z",
     "shell.execute_reply": "2024-12-12T06:47:39.274050Z"
    },
    "id": "4NCqxJpgTg2W",
    "outputId": "652634fd-8b70-46de-e01e-7be506dd2db1",
    "papermill": {
     "duration": 1.300345,
     "end_time": "2024-12-12T06:47:39.276650",
     "exception": false,
     "start_time": "2024-12-12T06:47:37.976305",
     "status": "completed"
    },
    "tags": []
   },
   "outputs": [
    {
     "data": {
      "image/png": "[encoded data removed]",
      "text/plain": [
       "<Figure size 1800x600 with 3 Axes>"
      ]
     },
     "metadata": {},
     "output_type": "display_data"
    }
   ],
   "source": [
    "# Define figure with a 1x3 layout for each kernel\n",
    "fig, axes = plt.subplots(1, 3, figsize=(18, 6), sharey=True)\n",
    "# fig.suptitle(\"Performance Metrics vs C Parameter for Different Kernels\", fontsize=16)\n",
    "\n",
    "# Plot each kernel in a separate 1x3 layout\n",
    "for i, kernel in enumerate(kernels):\n",
    "    # Extract data for the current kernel\n",
    "    c_values = results[kernel][\"C\"]\n",
    "    accuracy_values = results[kernel][\"average_accuracy\"]\n",
    "    sensitivity_values = results[kernel][\"average_sensitivity\"]\n",
    "    specificity_values = results[kernel][\"average_specificity\"]\n",
    "\n",
    "    # Plot all metrics for the current kernel in a single plot with 3 curves\n",
    "    axes[i].plot(c_values, accuracy_values, marker='o', label=\"Accuracy\")\n",
    "    axes[i].plot(c_values, sensitivity_values, marker='o', label=\"Sensitivity\")\n",
    "    axes[i].plot(c_values, specificity_values, marker='o', label=\"Specificity\")\n",
    "    axes[i].set_xscale(\"log\")\n",
    "    axes[i].set_title(f\"{kernel.capitalize()} Kernel\")\n",
    "    axes[i].set_xlabel(\"C Parameter\")\n",
    "    axes[i].grid(True)\n",
    "    axes[i].legend()\n",
    "\n",
    "# Set common y label\n",
    "axes[0].set_ylabel(\"Performance Metrics\")\n",
    "\n",
    "plt.tight_layout(rect=[0, 0.03, 1, 0.95])\n",
    "plt.show()"
   ]
  },
  {
   "cell_type": "code",
   "execution_count": 10,
   "id": "2fa99fd2",
   "metadata": {
    "execution": {
     "iopub.execute_input": "2024-12-12T06:47:39.289242Z",
     "iopub.status.busy": "2024-12-12T06:47:39.288891Z",
     "iopub.status.idle": "2024-12-12T06:47:39.296614Z",
     "shell.execute_reply": "2024-12-12T06:47:39.295824Z"
    },
    "id": "zAkuxmdgqIF3",
    "outputId": "29ab25b1-f2ce-4ace-c57c-6c1f85f2a6bd",
    "papermill": {
     "duration": 0.015877,
     "end_time": "2024-12-12T06:47:39.298337",
     "exception": false,
     "start_time": "2024-12-12T06:47:39.282460",
     "status": "completed"
    },
    "tags": []
   },
   "outputs": [
    {
     "name": "stdout",
     "output_type": "stream",
     "text": [
      "Optimal SVM Model Parameters for Each Performance Metric:\n",
      "\n",
      "1. Highest Accuracy:\n",
      "   Kernel: Rbf, C: 46.41588833612778, Accuracy: 0.9351\n",
      "2. Highest Sensitivity:\n",
      "   Kernel: Rbf, C: 46.41588833612778, Sensitivity: 0.9351\n",
      "3. Highest Specificity:\n",
      "   Kernel: Rbf, C: 21.54434690031882, Specificity: 0.9934\n"
     ]
    }
   ],
   "source": [
    "# Extract the best kernel and C value for each metric (accuracy, sensitivity, and specificity)\n",
    "\n",
    "best_accuracy = {'kernel': None, 'C': None, 'value': 0}\n",
    "best_sensitivity = {'kernel': None, 'C': None, 'value': 0}\n",
    "best_specificity = {'kernel': None, 'C': None, 'value': 0}\n",
    "\n",
    "for kernel in kernels:\n",
    "    for i, C in enumerate(results[kernel][\"C\"]):\n",
    "        # Check accuracy\n",
    "        if results[kernel][\"average_accuracy\"][i] > best_accuracy['value']:\n",
    "            best_accuracy.update(kernel=kernel, C=C, value=results[kernel][\"average_accuracy\"][i])\n",
    "\n",
    "        # Check sensitivity\n",
    "        if results[kernel][\"average_sensitivity\"][i] > best_sensitivity['value']:\n",
    "            best_sensitivity.update(kernel=kernel, C=C, value=results[kernel][\"average_sensitivity\"][i])\n",
    "\n",
    "        # Check specificity\n",
    "        if results[kernel][\"average_specificity\"][i] > best_specificity['value']:\n",
    "            best_specificity.update(kernel=kernel, C=C, value=results[kernel][\"average_specificity\"][i])\n",
    "\n",
    "# Format the results into descriptive print statements\n",
    "print(\"Optimal SVM Model Parameters for Each Performance Metric:\\n\")\n",
    "\n",
    "print(f\"1. Highest Accuracy:\\n   Kernel: {best_accuracy['kernel'].capitalize()}\"\n",
    "      f\", C: {best_accuracy['C']}, Accuracy: {best_accuracy['value']:.4f}\")\n",
    "\n",
    "print(f\"2. Highest Sensitivity:\\n   Kernel: {best_sensitivity['kernel'].capitalize()}\"\n",
    "      f\", C: {best_sensitivity['C']}, Sensitivity: {best_sensitivity['value']:.4f}\")\n",
    "\n",
    "print(f\"3. Highest Specificity:\\n   Kernel: {best_specificity['kernel'].capitalize()}\"\n",
    "      f\", C: {best_specificity['C']}, Specificity: {best_specificity['value']:.4f}\")"
   ]
  },
  {
   "cell_type": "code",
   "execution_count": 11,
   "id": "1e9cec9c",
   "metadata": {
    "collapsed": true,
    "execution": {
     "iopub.execute_input": "2024-12-12T06:47:39.310544Z",
     "iopub.status.busy": "2024-12-12T06:47:39.310018Z",
     "iopub.status.idle": "2024-12-12T06:47:40.385988Z",
     "shell.execute_reply": "2024-12-12T06:47:40.385077Z"
    },
    "id": "riEWbDcHqAkM",
    "jupyter": {
     "outputs_hidden": true
    },
    "outputId": "5dfb5439-afa3-4990-f4f2-0e7a24b0e474",
    "papermill": {
     "duration": 1.083916,
     "end_time": "2024-12-12T06:47:40.387718",
     "exception": false,
     "start_time": "2024-12-12T06:47:39.303802",
     "status": "completed"
    },
    "tags": []
   },
   "outputs": [
    {
     "data": {
      "text/html": [
       "<style>#sk-container-id-1 {color: black;background-color: white;}#sk-container-id-1 pre{padding: 0;}#sk-container-id-1 div.sk-toggleable {background-color: white;}#sk-container-id-1 label.sk-toggleable__label {cursor: pointer;display: block;width: 100%;margin-bottom: 0;padding: 0.3em;box-sizing: border-box;text-align: center;}#sk-container-id-1 label.sk-toggleable__label-arrow:before {content: \"▸\";float: left;margin-right: 0.25em;color: #696969;}#sk-container-id-1 label.sk-toggleable__label-arrow:hover:before {color: black;}#sk-container-id-1 div.sk-estimator:hover label.sk-toggleable__label-arrow:before {color: black;}#sk-container-id-1 div.sk-toggleable__content {max-height: 0;max-width: 0;overflow: hidden;text-align: left;background-color: #f0f8ff;}#sk-container-id-1 div.sk-toggleable__content pre {margin: 0.2em;color: black;border-radius: 0.25em;background-color: #f0f8ff;}#sk-container-id-1 input.sk-toggleable__control:checked~div.sk-toggleable__content {max-height: 200px;max-width: 100%;overflow: auto;}#sk-container-id-1 input.sk-toggleable__control:checked~label.sk-toggleable__label-arrow:before {content: \"▾\";}#sk-container-id-1 div.sk-estimator input.sk-toggleable__control:checked~label.sk-toggleable__label {background-color: #d4ebff;}#sk-container-id-1 div.sk-label input.sk-toggleable__control:checked~label.sk-toggleable__label {background-color: #d4ebff;}#sk-container-id-1 input.sk-hidden--visually {border: 0;clip: rect(1px 1px 1px 1px);clip: rect(1px, 1px, 1px, 1px);height: 1px;margin: -1px;overflow: hidden;padding: 0;position: absolute;width: 1px;}#sk-container-id-1 div.sk-estimator {font-family: monospace;background-color: #f0f8ff;border: 1px dotted black;border-radius: 0.25em;box-sizing: border-box;margin-bottom: 0.5em;}#sk-container-id-1 div.sk-estimator:hover {background-color: #d4ebff;}#sk-container-id-1 div.sk-parallel-item::after {content: \"\";width: 100%;border-bottom: 1px solid gray;flex-grow: 1;}#sk-container-id-1 div.sk-label:hover label.sk-toggleable__label {background-color: #d4ebff;}#sk-container-id-1 div.sk-serial::before {content: \"\";position: absolute;border-left: 1px solid gray;box-sizing: border-box;top: 0;bottom: 0;left: 50%;z-index: 0;}#sk-container-id-1 div.sk-serial {display: flex;flex-direction: column;align-items: center;background-color: white;padding-right: 0.2em;padding-left: 0.2em;position: relative;}#sk-container-id-1 div.sk-item {position: relative;z-index: 1;}#sk-container-id-1 div.sk-parallel {display: flex;align-items: stretch;justify-content: center;background-color: white;position: relative;}#sk-container-id-1 div.sk-item::before, #sk-container-id-1 div.sk-parallel-item::before {content: \"\";position: absolute;border-left: 1px solid gray;box-sizing: border-box;top: 0;bottom: 0;left: 50%;z-index: -1;}#sk-container-id-1 div.sk-parallel-item {display: flex;flex-direction: column;z-index: 1;position: relative;background-color: white;}#sk-container-id-1 div.sk-parallel-item:first-child::after {align-self: flex-end;width: 50%;}#sk-container-id-1 div.sk-parallel-item:last-child::after {align-self: flex-start;width: 50%;}#sk-container-id-1 div.sk-parallel-item:only-child::after {width: 0;}#sk-container-id-1 div.sk-dashed-wrapped {border: 1px dashed gray;margin: 0 0.4em 0.5em 0.4em;box-sizing: border-box;padding-bottom: 0.4em;background-color: white;}#sk-container-id-1 div.sk-label label {font-family: monospace;font-weight: bold;display: inline-block;line-height: 1.2em;}#sk-container-id-1 div.sk-label-container {text-align: center;}#sk-container-id-1 div.sk-container {/* jupyter's `normalize.less` sets `[hidden] { display: none; }` but bootstrap.min.css set `[hidden] { display: none !important; }` so we also need the `!important` here to be able to override the default hidden behavior on the sphinx rendered scikit-learn.org. See: https://github.com/scikit-learn/scikit-learn/issues/21755 */display: inline-block !important;position: relative;}#sk-container-id-1 div.sk-text-repr-fallback {display: none;}</style><div id=\"sk-container-id-1\" class=\"sk-top-container\"><div class=\"sk-text-repr-fallback\"><pre>SVC(C=21.54)</pre><b>In a Jupyter environment, please rerun this cell to show the HTML representation or trust the notebook. <br />On GitHub, the HTML representation is unable to render, please try loading this page with nbviewer.org.</b></div><div class=\"sk-container\" hidden><div class=\"sk-item\"><div class=\"sk-estimator sk-toggleable\"><input class=\"sk-toggleable__control sk-hidden--visually\" id=\"sk-estimator-id-1\" type=\"checkbox\" checked><label for=\"sk-estimator-id-1\" class=\"sk-toggleable__label sk-toggleable__label-arrow\">SVC</label><div class=\"sk-toggleable__content\"><pre>SVC(C=21.54)</pre></div></div></div></div></div>"
      ],
      "text/plain": [
       "SVC(C=21.54)"
      ]
     },
     "execution_count": 11,
     "metadata": {},
     "output_type": "execute_result"
    }
   ],
   "source": [
    "# Create the SVM model with a cubic kernel\n",
    "svm_optimal = SVC(kernel='rbf', C=21.54)\n",
    "\n",
    "# Train the model\n",
    "svm_optimal.fit(X_train, y_train)"
   ]
  },
  {
   "cell_type": "code",
   "execution_count": 12,
   "id": "8e8d3178",
   "metadata": {
    "execution": {
     "iopub.execute_input": "2024-12-12T06:47:40.400389Z",
     "iopub.status.busy": "2024-12-12T06:47:40.400145Z",
     "iopub.status.idle": "2024-12-12T06:47:40.774643Z",
     "shell.execute_reply": "2024-12-12T06:47:40.773969Z"
    },
    "id": "Y-GumZ0uoBo8",
    "papermill": {
     "duration": 0.382473,
     "end_time": "2024-12-12T06:47:40.776223",
     "exception": false,
     "start_time": "2024-12-12T06:47:40.393750",
     "status": "completed"
    },
    "tags": []
   },
   "outputs": [],
   "source": [
    "# Dataset and labels to make predictions and compare\n",
    "model_pred = X_test\n",
    "real_labels = y_test\n",
    "\n",
    "# Optionally, evaluate the model on the \"model_pred\" data\n",
    "y_pred = svm_optimal.predict(model_pred)"
   ]
  },
  {
   "cell_type": "code",
   "execution_count": 13,
   "id": "d013bde5",
   "metadata": {
    "execution": {
     "iopub.execute_input": "2024-12-12T06:47:40.788789Z",
     "iopub.status.busy": "2024-12-12T06:47:40.788547Z",
     "iopub.status.idle": "2024-12-12T06:47:40.800247Z",
     "shell.execute_reply": "2024-12-12T06:47:40.799427Z"
    },
    "id": "iC1gZxhb_kkp",
    "outputId": "faea6d24-c8c1-49a9-8c2e-a2665693d365",
    "papermill": {
     "duration": 0.019652,
     "end_time": "2024-12-12T06:47:40.801778",
     "exception": false,
     "start_time": "2024-12-12T06:47:40.782126",
     "status": "completed"
    },
    "tags": []
   },
   "outputs": [
    {
     "name": "stdout",
     "output_type": "stream",
     "text": [
      "Accuracy on Test Data:  0.9387510008006406\n",
      "Classification Report:\n",
      "               precision    recall  f1-score   support\n",
      "\n",
      "         0.0       0.88      0.89      0.89       500\n",
      "         1.0       0.97      0.99      0.98       500\n",
      "         2.0       0.95      0.98      0.97       500\n",
      "         3.0       0.92      0.88      0.90       500\n",
      "         4.0       0.96      0.95      0.95       498\n",
      "\n",
      "    accuracy                           0.94      2498\n",
      "   macro avg       0.94      0.94      0.94      2498\n",
      "weighted avg       0.94      0.94      0.94      2498\n",
      "\n"
     ]
    }
   ],
   "source": [
    "# Print the evaluation metrics\n",
    "print(\"Accuracy on Test Data: \", accuracy_score(real_labels, y_pred))\n",
    "print(\"Classification Report:\\n\", classification_report(real_labels, y_pred))"
   ]
  },
  {
   "cell_type": "code",
   "execution_count": 14,
   "id": "fe6e8666",
   "metadata": {
    "execution": {
     "iopub.execute_input": "2024-12-12T06:47:40.814570Z",
     "iopub.status.busy": "2024-12-12T06:47:40.813909Z",
     "iopub.status.idle": "2024-12-12T06:47:41.030286Z",
     "shell.execute_reply": "2024-12-12T06:47:41.029419Z"
    },
    "id": "V2IVgPVHAA7C",
    "outputId": "9b1df137-8a87-458f-82f1-94a3eb1c7e43",
    "papermill": {
     "duration": 0.22621,
     "end_time": "2024-12-12T06:47:41.033711",
     "exception": false,
     "start_time": "2024-12-12T06:47:40.807501",
     "status": "completed"
    },
    "tags": []
   },
   "outputs": [
    {
     "data": {
      "image/png": "[encoded data removed]",
      "text/plain": [
       "<Figure size 800x600 with 2 Axes>"
      ]
     },
     "metadata": {},
     "output_type": "display_data"
    }
   ],
   "source": [
    "# Confusion Matrix\n",
    "cm = confusion_matrix(real_labels, y_pred)\n",
    "plt.figure(figsize=(8, 6))\n",
    "plt.imshow(cm, interpolation='nearest', cmap=plt.cm.Blues)\n",
    "plt.title('Confusion Matrix')\n",
    "plt.colorbar()\n",
    "tick_marks = np.arange(len(np.unique(y_test)))\n",
    "plt.xticks(tick_marks, np.unique(y_test), rotation=45)\n",
    "plt.yticks(tick_marks, np.unique(y_test))\n",
    "plt.xlabel('Predicted Label')\n",
    "plt.ylabel('True Label')\n",
    "\n",
    "# Display values inside the boxes\n",
    "thresh = cm.max() / 2  # Threshold for text color\n",
    "for i in range(cm.shape[0]):\n",
    "    for j in range(cm.shape[1]):\n",
    "        plt.text(j, i, format(cm[i, j], 'd'),\n",
    "                 ha=\"center\", va=\"center\",\n",
    "                 color=\"white\" if cm[i, j] > thresh else \"black\")\n",
    "\n",
    "plt.grid(False)\n",
    "plt.show()"
   ]
  }
 ],
 "metadata": {
  "accelerator": "GPU",
  "colab": {
   "gpuType": "T4",
   "provenance": []
  },
  "kaggle": {
   "accelerator": "gpu",
   "dataSources": [
    {
     "datasetId": 6285876,
     "sourceId": 10176915,
     "sourceType": "datasetVersion"
    }
   ],
   "isGpuEnabled": true,
   "isInternetEnabled": true,
   "language": "python",
   "sourceType": "notebook"
  },
  "kernelspec": {
   "display_name": "Python 3",
   "name": "python3"
  },
  "language_info": {
   "codemirror_mode": {
    "name": "ipython",
    "version": 3
   },
   "file_extension": ".py",
   "mimetype": "text/x-python",
   "name": "python",
   "nbconvert_exporter": "python",
   "pygments_lexer": "ipython3",
   "version": "3.10.14"
  },
  "papermill": {
   "default_parameters": {},
   "duration": 1204.244656,
   "end_time": "2024-12-12T06:47:41.459819",
   "environment_variables": {},
   "exception": null,
   "input_path": "__notebook__.ipynb",
   "output_path": "__notebook__.ipynb",
   "parameters": {},
   "start_time": "2024-12-12T06:27:37.215163",
   "version": "2.6.0"
  }
 },
 "nbformat": 4,
 "nbformat_minor": 5
}
